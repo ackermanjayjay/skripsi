{
  "nbformat": 4,
  "nbformat_minor": 0,
  "metadata": {
    "colab": {
      "provenance": []
    },
    "kernelspec": {
      "name": "python3",
      "display_name": "Python 3"
    },
    "language_info": {
      "name": "python"
    }
  },
  "cells": [
    {
      "cell_type": "code",
      "execution_count": 1,
      "metadata": {
        "id": "AbO-cugk7OgZ"
      },
      "outputs": [],
      "source": [
        "import pandas as pd"
      ]
    },
    {
      "cell_type": "code",
      "source": [
        "def pelabelan(rating):\n",
        "  kategori={\n",
        "        \"Sangat-buruk\":1,\n",
        "        \"Buruk\":2,\n",
        "        \"Biasa\":3,\n",
        "        \"Baik\":4,\n",
        "        \"Sangat-baik\":5,\n",
        "    }\n",
        "  cek=(list(kategori.keys())\n",
        "        [list(kategori.values()).index(rating)]\n",
        "        )\n",
        "  return cek"
      ],
      "metadata": {
        "id": "A4hyV1dg9fs-"
      },
      "execution_count": 2,
      "outputs": []
    },
    {
      "cell_type": "markdown",
      "source": [
        "# Data hp"
      ],
      "metadata": {
        "id": "7m37d5d15Ag9"
      }
    },
    {
      "cell_type": "markdown",
      "source": [
        "## Hp Samsung"
      ],
      "metadata": {
        "id": "fwT15Ung6U8Y"
      }
    },
    {
      "cell_type": "markdown",
      "source": [
        "### Toko-samsung"
      ],
      "metadata": {
        "id": "hmcn5LuV6YPL"
      }
    },
    {
      "cell_type": "code",
      "source": [
        "data_hp_samsung_4bintang=pd.read_csv(\"/content/Hp-Samsung/Toko-samsung/data_hp_samsung_4bintang.csv\")\n",
        "data_hp_samsung_3bintang=pd.read_csv(\"/content/Hp-Samsung/Toko-samsung/data_hp_samsung_3bintang.csv\")\n",
        "data_hp_samsung_1bintang=pd.read_csv(\"/content/Hp-Samsung/Toko-samsung/data_hp_samsung_1bintang.csv\")"
      ],
      "metadata": {
        "id": "jd8rA-OJ6ZjB"
      },
      "execution_count": null,
      "outputs": []
    },
    {
      "cell_type": "code",
      "source": [
        "data_hp_samsung=pd.concat([data_hp_samsung_4bintang,\n",
        "                           data_hp_samsung_3bintang,\n",
        "                           data_hp_samsung_1bintang],\n",
        "                          ignore_index=True)"
      ],
      "metadata": {
        "id": "QVXF87Eg6qbU"
      },
      "execution_count": null,
      "outputs": []
    },
    {
      "cell_type": "code",
      "source": [
        "data_hp_samsung.drop(columns=[\"Unnamed: 0\"],inplace=True)"
      ],
      "metadata": {
        "id": "0pjLhE6L7eTL"
      },
      "execution_count": null,
      "outputs": []
    },
    {
      "cell_type": "code",
      "source": [
        "data_hp_samsung[\"kelas\"]=data_hp_samsung[\"rating\"].apply(pelabelan)"
      ],
      "metadata": {
        "id": "Df787U7e7oxH"
      },
      "execution_count": null,
      "outputs": []
    },
    {
      "cell_type": "code",
      "source": [
        "data_hp_samsung.to_csv(\"/content/Hp-Samsung/Toko-samsung/pelabelan_kelas/data_hp_samsung.csv\")"
      ],
      "metadata": {
        "id": "foFWJW2B7tSf"
      },
      "execution_count": null,
      "outputs": []
    },
    {
      "cell_type": "markdown",
      "source": [
        "## Hp infinix"
      ],
      "metadata": {
        "id": "uOll5mq3uWbz"
      }
    },
    {
      "cell_type": "markdown",
      "source": [
        "### Toko-dunigadget"
      ],
      "metadata": {
        "id": "jDyr2sKzubrB"
      }
    },
    {
      "cell_type": "markdown",
      "source": [
        "#### Infinix note 12"
      ],
      "metadata": {
        "id": "Wp_6vrd3xZlx"
      }
    },
    {
      "cell_type": "code",
      "source": [
        "data_hp_infinix_note12_3bintang=pd.read_csv(\"/content/Hp-vivo/Hp-infinix/Toko-duniagadget/infinix-note-12/data_hp_infinix_note_12_3bintang(cleaned).csv\")\n",
        "data_hp_infinix_note12_2bintang=pd.read_csv(\"/content/Hp-vivo/Hp-infinix/Toko-duniagadget/infinix-note-12/data_hp_infinix_note_12_2bintang(cleaned).csv\")\n",
        "data_hp_infinix_note12_1bintang=pd.read_csv(\"/content/Hp-vivo/Hp-infinix/Toko-duniagadget/infinix-note-12/data_hp_infinix_note_12_1bintang(cleaned).csv\")"
      ],
      "metadata": {
        "id": "Dexsd78Xxa5Q"
      },
      "execution_count": null,
      "outputs": []
    },
    {
      "cell_type": "code",
      "source": [
        "data_hp_infinix_note12=pd.concat([data_hp_infinix_note12_3bintang,\n",
        "                                  data_hp_infinix_note12_2bintang,\n",
        "                                  data_hp_infinix_note12_1bintang],\n",
        "                                 ignore_index=True)\n",
        "data_hp_infinix_note12.drop(columns=[\"Unnamed: 0\"],inplace=True)"
      ],
      "metadata": {
        "id": "8i2xJWQSxnRu"
      },
      "execution_count": null,
      "outputs": []
    },
    {
      "cell_type": "code",
      "source": [
        "data_hp_infinix_note12[\"kelas\"]=data_hp_infinix_note12[\"rating\"].apply(pelabelan)"
      ],
      "metadata": {
        "id": "1BLGt0btx13D"
      },
      "execution_count": null,
      "outputs": []
    },
    {
      "cell_type": "code",
      "source": [
        "data_hp_infinix_note12.to_csv(\"/content/Hp-vivo/Hp-infinix/Toko-duniagadget/infinix-note-12/pelabelan_kelas/data_hp_infinix_note12.csv\")"
      ],
      "metadata": {
        "id": "5jbGS6m2x6K7"
      },
      "execution_count": null,
      "outputs": []
    },
    {
      "cell_type": "markdown",
      "source": [
        "#### Infinix hot 11"
      ],
      "metadata": {
        "id": "U3BO3RHrukhd"
      }
    },
    {
      "cell_type": "code",
      "source": [
        "data_hp_infinix_hot11_duniagadget_3bintang=pd.read_csv(\"/content/Hp-vivo/Hp-infinix/Toko-duniagadget/infinix-hot-11/data_hp_infinix_hot_11_3bintang(cleaned).csv\")\n",
        "data_hp_infinix_hot11_duniagadget_1bintang=pd.read_csv(\"/content/Hp-vivo/Hp-infinix/Toko-duniagadget/infinix-hot-11/data_hp_infinix_hot_11_bintang(cleaned).csv\")"
      ],
      "metadata": {
        "id": "LnfLLHtgue-r"
      },
      "execution_count": null,
      "outputs": []
    },
    {
      "cell_type": "code",
      "source": [
        "data_hp_infinix_hot11_duniagadget=pd.concat([data_hp_infinix_hot11_duniagadget_3bintang,\n",
        "                                             data_hp_infinix_hot11_duniagadget_1bintang],ignore_index=True)"
      ],
      "metadata": {
        "id": "EG_gADqzvC2E"
      },
      "execution_count": null,
      "outputs": []
    },
    {
      "cell_type": "code",
      "source": [
        "data_hp_infinix_hot11_duniagadget.drop(columns=[\"Unnamed: 0\"],inplace=True)"
      ],
      "metadata": {
        "id": "wGk01EifvLL9"
      },
      "execution_count": null,
      "outputs": []
    },
    {
      "cell_type": "code",
      "source": [
        "data_hp_infinix_hot11_duniagadget[\"kelas\"]=data_hp_infinix_hot11_duniagadget[\"rating\"].apply(pelabelan)"
      ],
      "metadata": {
        "id": "MwvW8IWdvRst"
      },
      "execution_count": null,
      "outputs": []
    },
    {
      "cell_type": "code",
      "source": [
        "data_hp_infinix_hot11_duniagadget.to_csv(\"/content/Hp-vivo/Hp-infinix/Toko-duniagadget/infinix-hot-11/pelabelan-kelas/data_hp_infinix_hot11_duniagadget.csv\")"
      ],
      "metadata": {
        "id": "f6Gv4WK8vW_a"
      },
      "execution_count": null,
      "outputs": []
    },
    {
      "cell_type": "markdown",
      "source": [
        "#### Penggabungan"
      ],
      "metadata": {
        "id": "1aymax5GyIF7"
      }
    },
    {
      "cell_type": "code",
      "source": [
        "data_hp_infinix=pd.concat([data_hp_infinix_hot11_duniagadget,\n",
        "                           data_hp_infinix_note12],\n",
        "                          ignore_index=True)"
      ],
      "metadata": {
        "id": "vTtfcRU-yJ5g"
      },
      "execution_count": null,
      "outputs": []
    },
    {
      "cell_type": "code",
      "source": [
        "data_hp_infinix.to_csv(\"/content/Hp-vivo/Hp-infinix/pelabelan_kelas/data_hp_infinix.csv\")"
      ],
      "metadata": {
        "id": "6r76u7EIyQKg"
      },
      "execution_count": null,
      "outputs": []
    },
    {
      "cell_type": "markdown",
      "source": [
        "## Hp iphone"
      ],
      "metadata": {
        "id": "JvQNFujy5apT"
      }
    },
    {
      "cell_type": "markdown",
      "source": [
        "### Toko-Puteragroup"
      ],
      "metadata": {
        "id": "qHbGV8q65mPV"
      }
    },
    {
      "cell_type": "code",
      "source": [
        "data_hp_iphone=pd.read_csv(\"/content/hp-iphone/Toko-putregroup/data_hp_iphone_11_3bintang(cleaned).csv\")"
      ],
      "metadata": {
        "id": "EG1oRTYj5lP9"
      },
      "execution_count": null,
      "outputs": []
    },
    {
      "cell_type": "code",
      "source": [
        "data_hp_iphone.drop(columns=[\"Unnamed: 0\"],inplace=True)"
      ],
      "metadata": {
        "id": "YobGUQxM5vZ-"
      },
      "execution_count": null,
      "outputs": []
    },
    {
      "cell_type": "code",
      "source": [
        "data_hp_iphone[\"kelas\"]=data_hp_iphone[\"rating\"].apply(pelabelan)"
      ],
      "metadata": {
        "id": "PT1N5OG651v5"
      },
      "execution_count": null,
      "outputs": []
    },
    {
      "cell_type": "code",
      "source": [
        "data_hp_iphone.to_csv(\"/content/hp-iphone/Toko-putregroup/pelabelan_kelas/data_hp_iphone.csv\")"
      ],
      "metadata": {
        "id": "-x-zfcIB56Sn"
      },
      "execution_count": null,
      "outputs": []
    },
    {
      "cell_type": "markdown",
      "source": [
        "## Hp Vivo"
      ],
      "metadata": {
        "id": "w2yRkQxqsjWt"
      }
    },
    {
      "cell_type": "markdown",
      "source": [
        "### Toko-Vivo"
      ],
      "metadata": {
        "id": "v3kd993fuY8s"
      }
    },
    {
      "cell_type": "code",
      "source": [
        "data_hp_vivo_3bintang=pd.read_csv(\"/content/Hp-vivo/Toko-vivo/data_hp_vivo_3bintang.csv\")\n",
        "data_hp_vivo_1bintang=pd.read_csv(\"/content/Hp-vivo/Toko-vivo/data_hp_vivo_1bintang.csv\")"
      ],
      "metadata": {
        "id": "O1HBMVOUslPk"
      },
      "execution_count": null,
      "outputs": []
    },
    {
      "cell_type": "code",
      "source": [
        "data_hp_vivo=pd.concat([data_hp_vivo_3bintang,\n",
        "                        data_hp_vivo_1bintang],\n",
        "                       ignore_index=True)"
      ],
      "metadata": {
        "id": "sOCAU8oVs2Eq"
      },
      "execution_count": null,
      "outputs": []
    },
    {
      "cell_type": "code",
      "source": [
        "data_hp_vivo.drop(columns=[\"Unnamed: 0\"],inplace=True)"
      ],
      "metadata": {
        "id": "h6Yi1EN0s9EK"
      },
      "execution_count": null,
      "outputs": []
    },
    {
      "cell_type": "code",
      "source": [
        "data_hp_vivo[\"kelas\"]=data_hp_vivo[\"rating\"].apply(pelabelan)"
      ],
      "metadata": {
        "id": "4SsW7CECtDCw"
      },
      "execution_count": null,
      "outputs": []
    },
    {
      "cell_type": "code",
      "source": [
        "data_hp_vivo.to_csv(\"/content/Hp-vivo/Toko-vivo/pelabelan_kelas/data_hp_vivo.csv\")"
      ],
      "metadata": {
        "id": "UbLyxIr0tGgX"
      },
      "execution_count": null,
      "outputs": []
    },
    {
      "cell_type": "markdown",
      "source": [
        "## Hp xiaomi"
      ],
      "metadata": {
        "id": "ZvltpW565CA5"
      }
    },
    {
      "cell_type": "markdown",
      "source": [
        "### Toko-dunigadget"
      ],
      "metadata": {
        "id": "7q43Jka5--U3"
      }
    },
    {
      "cell_type": "code",
      "source": [
        "data_hp_xiaomi_duniagadget_4bintang=pd.read_csv(\"/content/Hp-xiaomi/Toko-duniagadget/data_hp_xiaomi_redmi_note11_4bintang.csv\")\n",
        "data_hp_xiaomi_duniagadget_3bintang=pd.read_csv(\"/content/Hp-xiaomi/Toko-duniagadget/data_hp_xiaomi_redmi_note11_3bintang.csv\")\n",
        "data_hp_xiaomi_duniagadget_2bintang=pd.read_csv(\"/content/Hp-xiaomi/Toko-duniagadget/data_hp_xiaomi_redmi_note11_2bintang.csv\")\n",
        "data_hp_xiaomi_duniagadget_1bintang=pd.read_csv(\"/content/Hp-xiaomi/Toko-duniagadget/data_hp_xiaomi_redmi_note11_1bintang.csv\")"
      ],
      "metadata": {
        "id": "IpHRSl8G_YqD"
      },
      "execution_count": null,
      "outputs": []
    },
    {
      "cell_type": "code",
      "source": [
        "data_hp_xiaomi_duniagadget=pd.concat([data_hp_xiaomi_duniagadget_4bintang,\n",
        "                                      data_hp_xiaomi_duniagadget_3bintang,\n",
        "                                      data_hp_xiaomi_duniagadget_2bintang,\n",
        "                                      data_hp_xiaomi_duniagadget_1bintang],\n",
        "                                     ignore_index=True)"
      ],
      "metadata": {
        "id": "oq6nKLBd_lOA"
      },
      "execution_count": null,
      "outputs": []
    },
    {
      "cell_type": "code",
      "source": [
        "data_hp_xiaomi_duniagadget.drop(columns=[\"Unnamed: 0\"],inplace=True)"
      ],
      "metadata": {
        "id": "pDx_RkzO_yFH"
      },
      "execution_count": null,
      "outputs": []
    },
    {
      "cell_type": "code",
      "source": [
        "data_hp_xiaomi_duniagadget[\"kelas\"]=data_hp_xiaomi_duniagadget[\"rating\"].apply(pelabelan)"
      ],
      "metadata": {
        "id": "jnOgdxWd_3Rg"
      },
      "execution_count": null,
      "outputs": []
    },
    {
      "cell_type": "code",
      "source": [
        "data_hp_xiaomi_duniagadget[\"kelas\"].value_counts().plot.bar();"
      ],
      "metadata": {
        "colab": {
          "base_uri": "https://localhost:8080/",
          "height": 510
        },
        "id": "QbhNSjp0_68O",
        "outputId": "940154df-4d6d-4937-a4c2-c7caf62476ce"
      },
      "execution_count": null,
      "outputs": [
        {
          "output_type": "display_data",
          "data": {
            "text/plain": [
              "<Figure size 640x480 with 1 Axes>"
            ],
            "image/png": "[encoded data removed]"
          },
          "metadata": {}
        }
      ]
    },
    {
      "cell_type": "code",
      "source": [
        "data_hp_xiaomi_duniagadget.to_csv(\"/content/Hp-xiaomi/Toko-duniagadget/pelabelan_kelas/data_hp_xiaomi_duniagadget(kategori).csv\")"
      ],
      "metadata": {
        "id": "evYA89BjAAHP"
      },
      "execution_count": null,
      "outputs": []
    },
    {
      "cell_type": "markdown",
      "source": [
        "### Toko-alfastore"
      ],
      "metadata": {
        "id": "-N1MKb1p9wJ-"
      }
    },
    {
      "cell_type": "markdown",
      "source": [
        "#### Redmi 9c"
      ],
      "metadata": {
        "id": "qD4T4BMcuq4e"
      }
    },
    {
      "cell_type": "code",
      "source": [
        "data_hp_xiaomi_alfastore_redmi_9c_4bintang=pd.read_csv(\"/content/Hp-xiaomi/Toko-alfastore/data_hp_xiaomi_redmi_9c_4bintang.csv\")\n",
        "data_hp_xiaomi_alfastore_redmi_9c_3bintang=pd.read_csv(\"/content/Hp-xiaomi/Toko-alfastore/data_hp_xiaomi_redmi_9c_3bintang.csv\")\n",
        "data_hp_xiaomi_alfastore_redmi_9c_2bintang=pd.read_csv(\"/content/Hp-xiaomi/Toko-alfastore/data_hp_xiaomi_redmi_9c_2bintang.csv\")\n",
        "data_hp_xiaomi_alfastore_redmi_9c_1bintang=pd.read_csv(\"/content/Hp-xiaomi/Toko-alfastore/data_hp_xiaomi_redmi_9c_1bintang.csv\")"
      ],
      "metadata": {
        "id": "cnY5-oRe9xwU"
      },
      "execution_count": null,
      "outputs": []
    },
    {
      "cell_type": "code",
      "source": [
        "data_hp_xiaomi_alfastore_redmi_9c=pd.concat([data_hp_xiaomi_alfastore_redmi_9c_4bintang,\n",
        "                                             data_hp_xiaomi_alfastore_redmi_9c_3bintang,\n",
        "                                             data_hp_xiaomi_alfastore_redmi_9c_2bintang,\n",
        "                                             data_hp_xiaomi_alfastore_redmi_9c_1bintang],\n",
        "                                            ignore_index=True)"
      ],
      "metadata": {
        "id": "tZXOZ1Ih-Qbk"
      },
      "execution_count": null,
      "outputs": []
    },
    {
      "cell_type": "code",
      "source": [
        "data_hp_xiaomi_alfastore_redmi_9c.drop(columns=[\"Unnamed: 0\"],inplace=True)"
      ],
      "metadata": {
        "id": "GmuuUqM9-ZYY"
      },
      "execution_count": null,
      "outputs": []
    },
    {
      "cell_type": "code",
      "source": [
        "data_hp_xiaomi_alfastore_redmi_9c[\"kelas\"]=data_hp_xiaomi_alfastore_redmi_9c[\"rating\"].apply(pelabelan)"
      ],
      "metadata": {
        "id": "pSuPmn2Z-hAo"
      },
      "execution_count": null,
      "outputs": []
    },
    {
      "cell_type": "code",
      "source": [
        "data_hp_xiaomi_alfastore_redmi_9c.to_csv(\"/content/Hp-xiaomi/Toko-alfastore/pelabelan_kategori/data_hp_xiaomi_alfastore_redmi_9c(kategori).csv\")"
      ],
      "metadata": {
        "id": "hpX5g6N6-l3z"
      },
      "execution_count": null,
      "outputs": []
    },
    {
      "cell_type": "markdown",
      "source": [
        "### Toko-xiaomi"
      ],
      "metadata": {
        "id": "XvXIr8Tk6tQO"
      }
    },
    {
      "cell_type": "markdown",
      "source": [
        "#### Redmi note 12"
      ],
      "metadata": {
        "id": "EOuB0jyq9y8s"
      }
    },
    {
      "cell_type": "code",
      "source": [
        "data_hp_xiaomi_xiaomi_redmiNote12_5bintang=pd.read_csv(\"/content/data_hp/hp-xiaomi/Toko xiaomi/redmi-note-12/data_hp_xiaomi_redmi_note_12_5bintang(cleaned).csv\")\n",
        "data_hp_xiaomi_xiaomi_redmiNote12_4bintang=pd.read_csv(\"/content/data_hp/hp-xiaomi/Toko xiaomi/redmi-note-12/data_hp_xiaomi_redmi_note_12_4bintang(cleaned).csv\")\n",
        "data_hp_xiaomi_xiaomi_redmiNote12_3bintang=pd.read_csv(\"/content/data_hp/hp-xiaomi/Toko xiaomi/redmi-note-12/data_hp_xiaomi_redmi_note_12_3bintang(cleaned).csv\")\n",
        "data_hp_xiaomi_xiaomi_redmiNote12_2bintang=pd.read_csv(\"/content/data_hp/hp-xiaomi/Toko xiaomi/redmi-note-12/data_hp_xiaomi_redmi_note_12_2bintang(cleaned).csv\")\n",
        "data_hp_xiaomi_xiaomi_redmiNote12_1bintang=pd.read_csv(\"/content/data_hp/hp-xiaomi/Toko xiaomi/redmi-note-12/data_hp_xiaomi_redmi_note_12_1bintang(cleaned).csv\")"
      ],
      "metadata": {
        "id": "vpOxMajx90AV"
      },
      "execution_count": null,
      "outputs": []
    },
    {
      "cell_type": "code",
      "source": [
        "data_hp_xiaomi_xiaomi_redmiNote12=pd.concat([data_hp_xiaomi_xiaomi_redmiNote12_5bintang,\n",
        "                                             data_hp_xiaomi_xiaomi_redmiNote12_4bintang,\n",
        "                                             data_hp_xiaomi_xiaomi_redmiNote12_3bintang,\n",
        "                                             data_hp_xiaomi_xiaomi_redmiNote12_2bintang,\n",
        "                                             data_hp_xiaomi_xiaomi_redmiNote12_1bintang],\n",
        "                                            ignore_index=True)"
      ],
      "metadata": {
        "id": "1oyennGA-D5A"
      },
      "execution_count": null,
      "outputs": []
    },
    {
      "cell_type": "code",
      "source": [
        "data_hp_xiaomi_xiaomi_redmiNote12.drop(columns=[\"Unnamed: 0\"],inplace=True)"
      ],
      "metadata": {
        "id": "RWvid_Ny-Pf5"
      },
      "execution_count": null,
      "outputs": []
    },
    {
      "cell_type": "code",
      "source": [
        "data_hp_xiaomi_xiaomi_redmiNote12[\"kelas\"]=data_hp_xiaomi_xiaomi_redmiNote12[\"rating\"].apply(pelabelan)"
      ],
      "metadata": {
        "id": "g_4Wb7-W-W5p"
      },
      "execution_count": null,
      "outputs": []
    },
    {
      "cell_type": "code",
      "source": [
        "data_hp_xiaomi_xiaomi_redmiNote12[\"kelas\"].value_counts().plot.bar();"
      ],
      "metadata": {
        "colab": {
          "base_uri": "https://localhost:8080/",
          "height": 510
        },
        "id": "CI9nn6_9-bei",
        "outputId": "ac52409e-81dc-4bdd-b492-00c0a91dd477"
      },
      "execution_count": null,
      "outputs": [
        {
          "output_type": "display_data",
          "data": {
            "text/plain": [
              "<Figure size 640x480 with 1 Axes>"
            ],
            "image/png": "[encoded data removed]"
          },
          "metadata": {}
        }
      ]
    },
    {
      "cell_type": "code",
      "source": [
        "data_hp_xiaomi_xiaomi_redmiNote12.to_csv(\"/content/data_hp/hp-xiaomi/Toko xiaomi/redmi-note-12/pelabelan_kelas/data_hp_xiaomi_xiaomi_redmiNote12.csv\")"
      ],
      "metadata": {
        "id": "YUPT1ez3-jVZ"
      },
      "execution_count": null,
      "outputs": []
    },
    {
      "cell_type": "markdown",
      "source": [
        "#### Redmi a1"
      ],
      "metadata": {
        "id": "lemaKY7h8i5L"
      }
    },
    {
      "cell_type": "code",
      "source": [
        "data_hp_xiaomi_xiaomi_redmiA1_5bintang=pd.read_csv(\"/content/data_hp/hp-xiaomi/Toko xiaomi/redmi-a1/data_hp_xiaomi_redmi_a1_5bintang(cleaned).csv\")\n",
        "data_hp_xiaomi_xiaomi_redmiA1_4bintang=pd.read_csv(\"/content/data_hp/hp-xiaomi/Toko xiaomi/redmi-a1/data_hp_xiaomi_redmi_a1_4bintang(cleaned).csv\")\n",
        "data_hp_xiaomi_xiaomi_redmiA1_3bintang=pd.read_csv(\"/content/data_hp/hp-xiaomi/Toko xiaomi/redmi-a1/data_hp_xiaomi_redmi_a1_3bintang(cleaned).csv\")\n",
        "data_hp_xiaomi_xiaomi_redmiA1_2bintang=pd.read_csv(\"/content/data_hp/hp-xiaomi/Toko xiaomi/redmi-a1/data_hp_xiaomi_redmi_a1_2bintang(cleaned).csv\")\n",
        "data_hp_xiaomi_xiaomi_redmiA1_1bintang=pd.read_csv(\"/content/data_hp/hp-xiaomi/Toko xiaomi/redmi-a1/data_hp_xiaomi_redmi_a1_1bintang(cleaned).csv\")"
      ],
      "metadata": {
        "id": "3UW-dDcH8kPs"
      },
      "execution_count": null,
      "outputs": []
    },
    {
      "cell_type": "code",
      "source": [
        "data_hp_xiaomi_xiaomi_redmiA1=pd.concat([data_hp_xiaomi_xiaomi_redmiA1_5bintang,\n",
        "                                         data_hp_xiaomi_xiaomi_redmiA1_4bintang,\n",
        "                                         data_hp_xiaomi_xiaomi_redmiA1_3bintang,\n",
        "                                         data_hp_xiaomi_xiaomi_redmiA1_2bintang,\n",
        "                                         data_hp_xiaomi_xiaomi_redmiA1_1bintang],\n",
        "                                        ignore_index=True)"
      ],
      "metadata": {
        "id": "iVPYRpx-8wUj"
      },
      "execution_count": null,
      "outputs": []
    },
    {
      "cell_type": "code",
      "source": [
        "data_hp_xiaomi_xiaomi_redmiA1.drop(columns=[\"Unnamed: 0\"],inplace=True)"
      ],
      "metadata": {
        "id": "fabc54mq87Xp"
      },
      "execution_count": null,
      "outputs": []
    },
    {
      "cell_type": "code",
      "source": [
        "data_hp_xiaomi_xiaomi_redmiA1[\"kelas\"]=data_hp_xiaomi_xiaomi_redmiA1[\"rating\"].apply(pelabelan)"
      ],
      "metadata": {
        "id": "MQZXahe29Cd2"
      },
      "execution_count": null,
      "outputs": []
    },
    {
      "cell_type": "code",
      "source": [
        "data_hp_xiaomi_xiaomi_redmiA1[\"kelas\"].value_counts().plot.bar();"
      ],
      "metadata": {
        "colab": {
          "base_uri": "https://localhost:8080/",
          "height": 510
        },
        "id": "XZ0WuW2j9Qrq",
        "outputId": "af6dbc12-9133-421b-d11c-7142754cf2ec"
      },
      "execution_count": null,
      "outputs": [
        {
          "output_type": "display_data",
          "data": {
            "text/plain": [
              "<Figure size 640x480 with 1 Axes>"
            ],
            "image/png": "[encoded data removed]"
          },
          "metadata": {}
        }
      ]
    },
    {
      "cell_type": "code",
      "source": [
        "data_hp_xiaomi_xiaomi_redmiA1.to_csv(\"/content/data_hp/hp-xiaomi/Toko xiaomi/redmi-a1/pelabelan_kelas/data_hp_xiaomi_xiaomi_redmiA1.csv\")"
      ],
      "metadata": {
        "id": "AJayfNei9enC"
      },
      "execution_count": null,
      "outputs": []
    },
    {
      "cell_type": "markdown",
      "source": [
        "#### Poco M4"
      ],
      "metadata": {
        "id": "91-usfP47E4-"
      }
    },
    {
      "cell_type": "code",
      "source": [
        "data_data_hp_xiaomi_xiaomi_pocoM4_5bintang=pd.read_csv(\"/content/data_hp/hp-xiaomi/Toko xiaomi/poco-m4/data_hp_xiaomi_poco_m4_5bintang(cleaned).csv\")\n",
        "data_data_hp_xiaomi_xiaomi_pocoM4_4bintang=pd.read_csv(\"/content/data_hp/hp-xiaomi/Toko xiaomi/poco-m4/data_hp_xiaomi_poco_m4_4bintang(cleaned).csv\")\n",
        "data_data_hp_xiaomi_xiaomi_pocoM4_3bintang=pd.read_csv(\"/content/data_hp/hp-xiaomi/Toko xiaomi/poco-m4/data_hp_xiaomi_poco_m4_3bintang(cleaned).csv\")\n",
        "data_data_hp_xiaomi_xiaomi_pocoM4_2bintang=pd.read_csv(\"/content/data_hp/hp-xiaomi/Toko xiaomi/poco-m4/data_hp_xiaomi_poco_m4_2bintang(cleaned).csv\")\n",
        "data_data_hp_xiaomi_xiaomi_pocoM4_1bintang=pd.read_csv(\"/content/data_hp/hp-xiaomi/Toko xiaomi/poco-m4/data_hp_xiaomi_poco_m4_1bintang(cleaned).csv\")"
      ],
      "metadata": {
        "id": "jJm4olhv6u4c"
      },
      "execution_count": null,
      "outputs": []
    },
    {
      "cell_type": "code",
      "source": [
        "data_data_hp_xiaomi_xiaomi_pocoM4=pd.concat([data_data_hp_xiaomi_xiaomi_pocoM4_5bintang,\n",
        "                                             data_data_hp_xiaomi_xiaomi_pocoM4_4bintang,\n",
        "                                             data_data_hp_xiaomi_xiaomi_pocoM4_3bintang,\n",
        "                                             data_data_hp_xiaomi_xiaomi_pocoM4_2bintang,\n",
        "                                             data_data_hp_xiaomi_xiaomi_pocoM4_1bintang],\n",
        "                                            ignore_index=True)"
      ],
      "metadata": {
        "id": "SWCj0uL87TnZ"
      },
      "execution_count": null,
      "outputs": []
    },
    {
      "cell_type": "code",
      "source": [
        "data_data_hp_xiaomi_xiaomi_pocoM4.drop(columns=[\"Unnamed: 0\"],inplace=True)"
      ],
      "metadata": {
        "id": "zrSwwqy17cLi"
      },
      "execution_count": null,
      "outputs": []
    },
    {
      "cell_type": "code",
      "source": [
        "data_data_hp_xiaomi_xiaomi_pocoM4[\"kelas\"]=data_data_hp_xiaomi_xiaomi_pocoM4[\"rating\"].apply(pelabelan)"
      ],
      "metadata": {
        "id": "UEcciFrZ7qAz"
      },
      "execution_count": null,
      "outputs": []
    },
    {
      "cell_type": "code",
      "source": [
        "data_data_hp_xiaomi_xiaomi_pocoM4.to_csv(\"/content/data_hp/hp-xiaomi/Toko xiaomi/poco-m4/pelabelan_kelas/data_hp_xiaomi_xiaomi_pocoM4.csv\")"
      ],
      "metadata": {
        "id": "BocF1bLc7u5q"
      },
      "execution_count": null,
      "outputs": []
    },
    {
      "cell_type": "markdown",
      "source": [
        "#### Penggabungan 3 merek"
      ],
      "metadata": {
        "id": "jn2zgjXf_B52"
      }
    },
    {
      "cell_type": "code",
      "source": [
        "data_hp_xiaomi_toko_xiaomi=pd.concat([data_data_hp_xiaomi_xiaomi_pocoM4,\n",
        "                                      data_hp_xiaomi_xiaomi_redmiA1,\n",
        "                                      data_hp_xiaomi_xiaomi_redmiNote12],\n",
        "                                     ignore_index=True)"
      ],
      "metadata": {
        "id": "5mPvbO0p_DIX"
      },
      "execution_count": null,
      "outputs": []
    },
    {
      "cell_type": "code",
      "source": [
        "data_hp_xiaomi_toko_xiaomi.to_csv(\"/content/data_hp/hp-xiaomi/Toko xiaomi/pelabelan_gabung_3merek/data_hp_xiaomi_toko_xiaomi.csv\")"
      ],
      "metadata": {
        "id": "jEQrRa3W_PQE"
      },
      "execution_count": null,
      "outputs": []
    },
    {
      "cell_type": "markdown",
      "source": [
        "### Toko-gudanghp"
      ],
      "metadata": {
        "id": "H_rw6DNq5MrD"
      }
    },
    {
      "cell_type": "code",
      "source": [
        "data_hp_xiaomi_gudangHp_5bintang=pd.read_csv(\"/content/data_hp/hp-xiaomi/data_hp_xiaomi_5bintang(cleaned).csv\")\n",
        "data_hp_xiaomi_gudangHp_4bintang=pd.read_csv(\"/content/data_hp/hp-xiaomi/data_hp_xiaomi_4bintang(cleaned).csv\")\n",
        "data_hp_xiaomi_gudangHp_3bintang=pd.read_csv(\"/content/data_hp/hp-xiaomi/data_hp_xiaomi_3bintang(cleaned).csv\")\n",
        "data_hp_xiaomi_gudangHp_2bintang=pd.read_csv(\"/content/data_hp/hp-xiaomi/data_hp_xiaomi_2bintang(cleaned).csv\")\n",
        "data_hp_xiaomi_gudangHp_1bintang=pd.read_csv(\"/content/data_hp/hp-xiaomi/data_hp_xiaomi_1bintang(cleaned).csv\")"
      ],
      "metadata": {
        "id": "Q02nWIa85N8j"
      },
      "execution_count": null,
      "outputs": []
    },
    {
      "cell_type": "code",
      "source": [
        "data_hp_xiaomi_gudangHp=pd.concat([data_hp_xiaomi_gudangHp_5bintang,\n",
        "                                   data_hp_xiaomi_gudangHp_4bintang,\n",
        "                                   data_hp_xiaomi_gudangHp_3bintang,\n",
        "                                   data_hp_xiaomi_gudangHp_2bintang,\n",
        "                                   data_hp_xiaomi_gudangHp_1bintang,],\n",
        "                                  ignore_index=True)"
      ],
      "metadata": {
        "id": "FpazwRyJ5od2"
      },
      "execution_count": null,
      "outputs": []
    },
    {
      "cell_type": "code",
      "source": [
        "data_hp_xiaomi_gudangHp.drop(columns=[\"Unnamed: 0\"],inplace=True)"
      ],
      "metadata": {
        "id": "I8Qr3dta5xSd"
      },
      "execution_count": null,
      "outputs": []
    },
    {
      "cell_type": "code",
      "source": [
        "data_hp_xiaomi_gudangHp[\"kelas\"]=data_hp_xiaomi_gudangHp[\"rating\"].apply(pelabelan)"
      ],
      "metadata": {
        "id": "otnMy9n255dD"
      },
      "execution_count": null,
      "outputs": []
    },
    {
      "cell_type": "code",
      "source": [
        "data_hp_xiaomi_gudangHp.to_csv(\"/content/data_hp/hp-xiaomi/pelabelan/data_hp_xiaomi_gudangHp.csv\")"
      ],
      "metadata": {
        "id": "kb2Ta8Ec6Fci"
      },
      "execution_count": null,
      "outputs": []
    },
    {
      "cell_type": "markdown",
      "source": [
        "## Penggabungan data hp"
      ],
      "metadata": {
        "id": "ktIlyL5hB7st"
      }
    },
    {
      "cell_type": "code",
      "source": [
        "data_hp_xiaomi_alfastore=pd.read_csv(\"/content/data-hp/hp-xiaomi/Toko-alfastore/data_hp_xiaomi_alfastore_redmi_9c(kategori).csv\")\n",
        "data_hp_xiaomi_duniagadget=pd.read_csv(\"/content/data-hp/hp-xiaomi/Toko-duniagadget/data_hp_xiaomi_duniagadget(kategori).csv\")\n",
        "data_hp_xiaomi_xiaomi=pd.read_csv(\"/content/data-hp/hp-xiaomi/Toko-xiaomi/data_hp_xiaomi_toko_xiaomi.csv\")"
      ],
      "metadata": {
        "id": "j2KhaCbZB9Xe"
      },
      "execution_count": 19,
      "outputs": []
    },
    {
      "cell_type": "code",
      "source": [
        "data_hp_xiaomi=pd.concat([data_hp_xiaomi_alfastore,\n",
        "                          data_hp_xiaomi_duniagadget,\n",
        "                          data_hp_xiaomi_xiaomi],\n",
        "                         ignore_index=True)"
      ],
      "metadata": {
        "id": "ze0u_WR0uiOs"
      },
      "execution_count": 20,
      "outputs": []
    },
    {
      "cell_type": "code",
      "source": [
        "data_hp_xiaomi.drop(columns=[\"Unnamed: 0\"],inplace=True)"
      ],
      "metadata": {
        "id": "hgFwAlUZused"
      },
      "execution_count": 21,
      "outputs": []
    },
    {
      "cell_type": "code",
      "source": [
        "data_hp_xiaomi[\"kelas\"].value_counts().plot.bar();"
      ],
      "metadata": {
        "colab": {
          "base_uri": "https://localhost:8080/",
          "height": 510
        },
        "id": "SMUvlzjvuxWY",
        "outputId": "e2accea6-5b57-4ba2-cd96-9226691f31b3"
      },
      "execution_count": 22,
      "outputs": [
        {
          "output_type": "display_data",
          "data": {
            "text/plain": [
              "<Figure size 640x480 with 1 Axes>"
            ],
            "image/png": "[encoded data removed]"
          },
          "metadata": {}
        }
      ]
    },
    {
      "cell_type": "code",
      "source": [
        "data_hp_xiaomi.to_csv(\"/content/data-hp/hp-xiaomi/pelabelan_kelas/data_hp_xiaomi.csv\")"
      ],
      "metadata": {
        "id": "DMxzGlvfu6IJ"
      },
      "execution_count": 23,
      "outputs": []
    },
    {
      "cell_type": "code",
      "source": [
        "data_hp_infinix=pd.read_csv(\"/content/data-hp/hp-infinix/Toko-duniagadget/data_hp_infinix.csv\")\n",
        "data_hp_infinix.drop(columns=[\"Unnamed: 0\"],inplace=True)"
      ],
      "metadata": {
        "id": "lWeTaWY3vMOK"
      },
      "execution_count": 24,
      "outputs": []
    },
    {
      "cell_type": "code",
      "source": [
        "data_hp_iphone=pd.read_csv(\"/content/data-hp/hp-phone/Toko-puteragroup/data_hp_iphone.csv\")\n",
        "data_hp_iphone.drop(columns=[\"Unnamed: 0\"],inplace=True)"
      ],
      "metadata": {
        "id": "yENihuH1vshZ"
      },
      "execution_count": 25,
      "outputs": []
    },
    {
      "cell_type": "code",
      "source": [
        "data_hp_samsung=pd.read_csv(\"/content/data-hp/hp-samsung/Toko-samsung/data_hp_samsung.csv\")\n",
        "data_hp_samsung.drop(columns=[\"Unnamed: 0\"],inplace=True)"
      ],
      "metadata": {
        "id": "Izco4NsnwFyD"
      },
      "execution_count": 26,
      "outputs": []
    },
    {
      "cell_type": "code",
      "source": [
        "data_hp_vivo=pd.read_csv(\"/content/data-hp/hp-vivo/Toko-vivo/data_hp_vivo.csv\")\n",
        "data_hp_vivo.drop(columns=[\"Unnamed: 0\"],inplace=True)"
      ],
      "metadata": {
        "id": "bWAmb9M8wXXy"
      },
      "execution_count": 27,
      "outputs": []
    },
    {
      "cell_type": "code",
      "source": [
        "data_hp=pd.concat([data_hp_xiaomi,\n",
        "                   data_hp_vivo,\n",
        "                   data_hp_iphone,\n",
        "                   data_hp_samsung,\n",
        "                   data_hp_infinix],\n",
        "                  ignore_index=True)"
      ],
      "metadata": {
        "id": "AB80pkAcwkA1"
      },
      "execution_count": 30,
      "outputs": []
    },
    {
      "cell_type": "code",
      "source": [
        "data_hp[\"kelas\"].value_counts().plot.bar();"
      ],
      "metadata": {
        "colab": {
          "base_uri": "https://localhost:8080/",
          "height": 510
        },
        "id": "bH4jOhocw7Sr",
        "outputId": "d0318094-160f-4f4e-e7f6-17658860cb1c"
      },
      "execution_count": 33,
      "outputs": [
        {
          "output_type": "display_data",
          "data": {
            "text/plain": [
              "<Figure size 640x480 with 1 Axes>"
            ],
            "image/png": "[encoded data removed]"
          },
          "metadata": {}
        }
      ]
    },
    {
      "cell_type": "code",
      "source": [
        "data_hp.to_csv(\"/content/data-hp/pelabelan_gabungan/data_hp.csv\")"
      ],
      "metadata": {
        "id": "IyjZksRnxCvP"
      },
      "execution_count": 34,
      "outputs": []
    },
    {
      "cell_type": "markdown",
      "source": [
        "# Data Laptop"
      ],
      "metadata": {
        "id": "mp-kEeGk7YHR"
      }
    },
    {
      "cell_type": "markdown",
      "source": [
        "## Laptop lenovo"
      ],
      "metadata": {
        "id": "Bg8H-_3DDtQV"
      }
    },
    {
      "cell_type": "markdown",
      "source": [
        "### Toko-foxcomp"
      ],
      "metadata": {
        "id": "0iDPZE9TJXHF"
      }
    },
    {
      "cell_type": "code",
      "source": [
        "data_laptop_lenovo_5bintang=pd.read_csv(\"/content/Laptop_lenovo/Toko-foxcomp/data_laptop_lenovo_foxcomp_5bintang(cleaned).csv\")\n",
        "data_laptop_lenovo_4bintang=pd.read_csv(\"/content/Laptop_lenovo/Toko-foxcomp/data_laptop_lenovo_foxcomp_4bintang(cleaned).csv\")\n",
        "data_laptop_lenovo_3bintang=pd.read_csv(\"/content/Laptop_lenovo/Toko-foxcomp/data_laptop_foxcomp_3bintang(cleaned).csv\")\n",
        "data_laptop_lenovo_2bintang=pd.read_csv(\"/content/Laptop_lenovo/Toko-foxcomp/data_laptop_foxcomp_2bintang(cleaned).csv\")\n",
        "data_laptop_lenovo_1bintang=pd.read_csv(\"/content/Laptop_lenovo/Toko-foxcomp/data_laptop_foxcomp_1bintang(cleaned).csv\")"
      ],
      "metadata": {
        "id": "-dYlt1PGJYdB"
      },
      "execution_count": null,
      "outputs": []
    },
    {
      "cell_type": "code",
      "source": [
        "data_laptop_lenovo_foxcomp=pd.concat([data_laptop_lenovo_5bintang,\n",
        "                                      data_laptop_lenovo_4bintang,\n",
        "                                      data_laptop_lenovo_3bintang,\n",
        "                                      data_laptop_lenovo_2bintang,\n",
        "                                      data_laptop_lenovo_1bintang],\n",
        "                                     ignore_index=True)\n",
        "data_laptop_lenovo_foxcomp.drop(columns=[\"Unnamed: 0\"],inplace=True)"
      ],
      "metadata": {
        "id": "Z0Lrs6rEJ8B1"
      },
      "execution_count": null,
      "outputs": []
    },
    {
      "cell_type": "code",
      "source": [
        "data_laptop_lenovo_foxcomp[\"kelas\"]=data_laptop_lenovo_foxcomp[\"rating\"].apply(pelabelan)"
      ],
      "metadata": {
        "id": "Ux7bL5itKHWQ"
      },
      "execution_count": null,
      "outputs": []
    },
    {
      "cell_type": "code",
      "source": [
        "data_laptop_lenovo_foxcomp.to_csv(\"/content/Laptop_lenovo/Toko-foxcomp/pelabelan-kelas/data_laptop_lenovo_foxcomp.csv\")"
      ],
      "metadata": {
        "id": "4lqyiPqFKamG"
      },
      "execution_count": null,
      "outputs": []
    },
    {
      "cell_type": "markdown",
      "source": [
        "### Toko-wdkomputerjakarta"
      ],
      "metadata": {
        "id": "dIElNxA8Dut6"
      }
    },
    {
      "cell_type": "markdown",
      "source": [
        "#### T410"
      ],
      "metadata": {
        "id": "HcX_NAkfDyfV"
      }
    },
    {
      "cell_type": "code",
      "source": [
        "data_laptop_lenovo_t410_3bintang=pd.read_csv(\"/content/Laptop_lenovo/Toko-wdkomputerjakarta/t410/data-laptop-LENOVO-3BINTANG(cleaned).csv\")\n",
        "data_laptop_lenovo_t410_2bintang=pd.read_csv(\"/content/Laptop_lenovo/Toko-wdkomputerjakarta/t410/data-laptop-LENOVO-2BINTANG(cleaned).csv\")"
      ],
      "metadata": {
        "id": "8HGaWBpWD7R4"
      },
      "execution_count": null,
      "outputs": []
    },
    {
      "cell_type": "code",
      "source": [
        "data_laptop_lenovo_t410=pd.concat([data_laptop_lenovo_t410_3bintang,\n",
        "                                   data_laptop_lenovo_t410_2bintang],\n",
        "                                  ignore_index=True)"
      ],
      "metadata": {
        "id": "YllzHhMrEAah"
      },
      "execution_count": null,
      "outputs": []
    },
    {
      "cell_type": "code",
      "source": [
        "data_laptop_lenovo_t410.drop(columns=[\"Unnamed: 0\"],inplace=True)"
      ],
      "metadata": {
        "id": "Dk0FOB5xEHI7"
      },
      "execution_count": null,
      "outputs": []
    },
    {
      "cell_type": "code",
      "source": [
        "data_laptop_lenovo_t410[\"kelas\"]=data_laptop_lenovo_t410[\"rating\"].apply(pelabelan)"
      ],
      "metadata": {
        "id": "8tPT32abEOAG"
      },
      "execution_count": null,
      "outputs": []
    },
    {
      "cell_type": "code",
      "source": [
        "data_laptop_lenovo_t410.to_csv(\"/content/Laptop_lenovo/Toko-wdkomputerjakarta/t410/pelabelan-kelas/data_laptop_lenovo_t410.csv\")"
      ],
      "metadata": {
        "id": "u4jtFXobEWDk"
      },
      "execution_count": null,
      "outputs": []
    },
    {
      "cell_type": "markdown",
      "source": [
        "#### T420"
      ],
      "metadata": {
        "id": "GaD_gk8vFEp0"
      }
    },
    {
      "cell_type": "code",
      "source": [
        "data_laptop_lenovo_t420_3bintang=pd.read_csv(\"/content/Laptop_lenovo/Toko-wdkomputerjakarta/t420/data_laptop_lenovo_t420_3bintang(cleaned).csv\")\n",
        "data_laptop_lenovo_t420_1bintang=pd.read_csv(\"/content/Laptop_lenovo/Toko-wdkomputerjakarta/t420/data_laptop_lenovo_t420_1bintang(cleanend).csv\")"
      ],
      "metadata": {
        "id": "yui9YwhpFGay"
      },
      "execution_count": null,
      "outputs": []
    },
    {
      "cell_type": "code",
      "source": [
        "data_laptop_lenovo_t420=pd.concat([data_laptop_lenovo_t420_3bintang,\n",
        "                                   data_laptop_lenovo_t420_1bintang],\n",
        "                                  ignore_index=True)"
      ],
      "metadata": {
        "id": "DKHMtlCLFa9t"
      },
      "execution_count": null,
      "outputs": []
    },
    {
      "cell_type": "code",
      "source": [
        "data_laptop_lenovo_t420.drop(columns=[\"Unnamed: 0\"],inplace=True)"
      ],
      "metadata": {
        "id": "S4XsGDTyFkkD"
      },
      "execution_count": null,
      "outputs": []
    },
    {
      "cell_type": "code",
      "source": [
        "data_laptop_lenovo_t420[\"kelas\"]=data_laptop_lenovo_t420[\"rating\"].apply(pelabelan)"
      ],
      "metadata": {
        "id": "IGKA3y3HFq7A"
      },
      "execution_count": null,
      "outputs": []
    },
    {
      "cell_type": "code",
      "source": [
        "data_laptop_lenovo_t420.to_csv(\"/content/Laptop_lenovo/Toko-wdkomputerjakarta/t420/pelabelan_kelas/data_laptop_lenovo_t420.csv\")"
      ],
      "metadata": {
        "id": "OhU8B32oFvyJ"
      },
      "execution_count": null,
      "outputs": []
    },
    {
      "cell_type": "markdown",
      "source": [
        "#### T430"
      ],
      "metadata": {
        "id": "RkGi9tY7GQy1"
      }
    },
    {
      "cell_type": "code",
      "source": [
        "data_laptop_lenovo_t430_3bintang=pd.read_csv(\"/content/Laptop_lenovo/Toko-wdkomputerjakarta/t430/data-laptop-LENOVO-3bintang(cleaned).csv\")"
      ],
      "metadata": {
        "id": "fi9vGXUtGR71"
      },
      "execution_count": null,
      "outputs": []
    },
    {
      "cell_type": "code",
      "source": [
        "data_laptop_lenovo_t430_3bintang.drop(columns=[\"Unnamed: 0\"],\n",
        "                                      inplace=True)"
      ],
      "metadata": {
        "id": "q3GymBpiGiRp"
      },
      "execution_count": null,
      "outputs": []
    },
    {
      "cell_type": "code",
      "source": [
        "data_laptop_lenovo_t430=data_laptop_lenovo_t430_3bintang"
      ],
      "metadata": {
        "id": "izGDu2ckGzmo"
      },
      "execution_count": null,
      "outputs": []
    },
    {
      "cell_type": "code",
      "source": [
        "data_laptop_lenovo_t430[\"kelas\"]=data_laptop_lenovo_t430[\"rating\"].apply(pelabelan)"
      ],
      "metadata": {
        "id": "Cqt1cnpNGrmP"
      },
      "execution_count": null,
      "outputs": []
    },
    {
      "cell_type": "code",
      "source": [
        "data_laptop_lenovo_t430.to_csv(\"/content/Laptop_lenovo/Toko-wdkomputerjakarta/t430/pelabelan_kelas/data_laptop_lenovo_t430.csv\")"
      ],
      "metadata": {
        "id": "h-smig7_G3dL"
      },
      "execution_count": null,
      "outputs": []
    },
    {
      "cell_type": "markdown",
      "source": [
        "#### x260"
      ],
      "metadata": {
        "id": "rMWbmHHvHY6u"
      }
    },
    {
      "cell_type": "code",
      "source": [
        "data_laptop_lenovo_x260=pd.read_csv(\"/content/Laptop_lenovo/Toko-wdkomputerjakarta/x260/data_laptop_lenovo_x260_1bintang(cleaned).csv\")"
      ],
      "metadata": {
        "id": "l9DVyEpAHabb"
      },
      "execution_count": null,
      "outputs": []
    },
    {
      "cell_type": "code",
      "source": [
        "data_laptop_lenovo_x260.drop(columns=[\"Unnamed: 0\"],inplace=True)"
      ],
      "metadata": {
        "id": "HybLO9SWHfgS"
      },
      "execution_count": null,
      "outputs": []
    },
    {
      "cell_type": "code",
      "source": [
        "data_laptop_lenovo_x260[\"kelas\"]=data_laptop_lenovo_x260[\"rating\"].apply(pelabelan)"
      ],
      "metadata": {
        "id": "_uIjvL65HlrM"
      },
      "execution_count": null,
      "outputs": []
    },
    {
      "cell_type": "code",
      "source": [
        "data_laptop_lenovo_x260.to_csv(\"/content/Laptop_lenovo/Toko-wdkomputerjakarta/x260/pelabelan-kelas/data_laptop_lenovo_x260.csv\")"
      ],
      "metadata": {
        "id": "-9-_8CLZHo8D"
      },
      "execution_count": null,
      "outputs": []
    },
    {
      "cell_type": "markdown",
      "source": [
        "#### x270"
      ],
      "metadata": {
        "id": "VkeaxRqtH59f"
      }
    },
    {
      "cell_type": "code",
      "source": [
        "data_laptop_lenovo_x270=pd.read_csv(\"/content/Laptop_lenovo/Toko-wdkomputerjakarta/x270/data_laptop_lenovo_x270_1bintang(cleaned).csv\")\n",
        "data_laptop_lenovo_x270.drop(columns=[\"Unnamed: 0\"],inplace=True)"
      ],
      "metadata": {
        "id": "1TOUPYFzH67Y"
      },
      "execution_count": null,
      "outputs": []
    },
    {
      "cell_type": "code",
      "source": [
        "data_laptop_lenovo_x270[\"kelas\"]=data_laptop_lenovo_x270[\"rating\"].apply(pelabelan)"
      ],
      "metadata": {
        "id": "Kb9kkdH3IE6k"
      },
      "execution_count": null,
      "outputs": []
    },
    {
      "cell_type": "code",
      "source": [
        "data_laptop_lenovo_x270.to_csv(\"/content/Laptop_lenovo/Toko-wdkomputerjakarta/x270/pelabelan-kelas/data_laptop_lenovo_x270.csv\")"
      ],
      "metadata": {
        "id": "Il1FSUS7IJWW"
      },
      "execution_count": null,
      "outputs": []
    },
    {
      "cell_type": "markdown",
      "source": [
        "#### Penggabungan"
      ],
      "metadata": {
        "id": "QGftMf9kIUm9"
      }
    },
    {
      "cell_type": "code",
      "source": [
        "data_laptop_lenovo=pd.concat([data_laptop_lenovo_t410,\n",
        "                              data_laptop_lenovo_t420,\n",
        "                              data_laptop_lenovo_t430,\n",
        "                              data_laptop_lenovo_x260,\n",
        "                              data_laptop_lenovo_x270],ignore_index=True)"
      ],
      "metadata": {
        "id": "t11e9QnuIX2N"
      },
      "execution_count": null,
      "outputs": []
    },
    {
      "cell_type": "markdown",
      "source": [
        "#### Penggabungan 2 toko"
      ],
      "metadata": {
        "id": "VZKC1Mr5Kmzs"
      }
    },
    {
      "cell_type": "code",
      "source": [
        "data_laptop_lenovo.to_csv(\"/content/Laptop_lenovo/Toko-wdkomputerjakarta/pelaban-kelas-tipe/data_laptop_lenovo_wdkomputerjakarta.csv\")"
      ],
      "metadata": {
        "id": "O1HZx7QoImn1"
      },
      "execution_count": null,
      "outputs": []
    },
    {
      "cell_type": "code",
      "source": [
        "data_laptop_lenovo=pd.concat([data_laptop_lenovo,data_laptop_lenovo_foxcomp],ignore_index=True)"
      ],
      "metadata": {
        "id": "_6zrEdc1Kn0c"
      },
      "execution_count": null,
      "outputs": []
    },
    {
      "cell_type": "code",
      "source": [
        "data_laptop_lenovo.to_csv(\"/content/Laptop_lenovo/pelabelan-2toko/data_laptop_lenovo.csv\")"
      ],
      "metadata": {
        "id": "pze9jfo0K22J"
      },
      "execution_count": null,
      "outputs": []
    },
    {
      "cell_type": "markdown",
      "source": [
        "## Laptop hp"
      ],
      "metadata": {
        "id": "IHC7O0tPCX4F"
      }
    },
    {
      "cell_type": "markdown",
      "source": [
        "### Toko-hp-official"
      ],
      "metadata": {
        "id": "WMTS42YdCZPy"
      }
    },
    {
      "cell_type": "code",
      "source": [
        "data_hp_laptop_5bintang=pd.read_csv(\"/content/data_laptop/laptop-hp/data_laptop_hp_5bintang(cleaned).csv\")\n",
        "data_hp_laptop_4bintang=pd.read_csv(\"/content/data_laptop/laptop-hp/data_laptop_hp_4bintang(cleaned).csv\")\n",
        "data_hp_laptop_3bintang=pd.read_csv(\"/content/data_laptop/laptop-hp/data_laptop_hp_3bintang(cleaned).csv\")\n",
        "data_hp_laptop_2bintang=pd.read_csv(\"/content/data_laptop/laptop-hp/data_laptop_hp_2bintang(cleaned).csv\")\n",
        "data_hp_laptop_1bintang=pd.read_csv(\"/content/data_laptop/laptop-hp/data_laptop_hp_1bintang(cleaned).csv\")"
      ],
      "metadata": {
        "id": "vEXrD-6QCa9F"
      },
      "execution_count": null,
      "outputs": []
    },
    {
      "cell_type": "code",
      "source": [
        "data_hp_laptop=pd.concat([data_hp_laptop_5bintang,\n",
        "                          data_hp_laptop_4bintang,\n",
        "                          data_hp_laptop_3bintang,\n",
        "                          data_hp_laptop_2bintang,\n",
        "                          data_hp_laptop_1bintang],\n",
        "                         ignore_index=True)"
      ],
      "metadata": {
        "id": "h37vxP_tCqlC"
      },
      "execution_count": null,
      "outputs": []
    },
    {
      "cell_type": "code",
      "source": [
        "data_hp_laptop.drop(columns=[\"Unnamed: 0\"],inplace=True)"
      ],
      "metadata": {
        "id": "GA01FWlqCzNn"
      },
      "execution_count": null,
      "outputs": []
    },
    {
      "cell_type": "code",
      "source": [
        "data_hp_laptop[\"kelas\"]=data_hp_laptop[\"rating\"].apply(pelabelan)"
      ],
      "metadata": {
        "id": "j5Zb_TdOC5d_"
      },
      "execution_count": null,
      "outputs": []
    },
    {
      "cell_type": "code",
      "source": [
        "data_hp_laptop.to_csv(\"/content/data_laptop/laptop-hp/pelabelan_kelas/data_hp_laptop.csv\")"
      ],
      "metadata": {
        "id": "BJohzYDAC_sS"
      },
      "execution_count": null,
      "outputs": []
    },
    {
      "cell_type": "markdown",
      "source": [
        "## Laptop macbook"
      ],
      "metadata": {
        "id": "M4n_d4p3LKSr"
      }
    },
    {
      "cell_type": "markdown",
      "source": [
        "### Toko newrizkyApple"
      ],
      "metadata": {
        "id": "xCxsRTn81T92"
      }
    },
    {
      "cell_type": "code",
      "source": [
        "data_laptop_macbook_newrizyApple_5bintang=pd.read_csv(\"/content/Laptop-macbook/Toko-newrizkyapple/data_laptop_macbook_newrizkyapple_5bintang(cleaned).csv\")\n",
        "data_laptop_macbook_newrizyApple_4bintang=pd.read_csv(\"/content/Laptop-macbook/Toko-newrizkyapple/data_laptop_macbook_newrizkyapple_4bintang(cleaned).csv\")\n",
        "data_laptop_macbook_newrizyApple_3bintang=pd.read_csv(\"/content/Laptop-macbook/Toko-newrizkyapple/data_laptop_macbook_newrizkyapple_3bintang(cleaned).csv\")\n",
        "data_laptop_macbook_newrizyApple_2bintang=pd.read_csv(\"/content/Laptop-macbook/Toko-newrizkyapple/data_laptop_macbook_newrizkyapple_2bintang(cleaned).csv\")\n",
        "data_laptop_macbook_newrizyApple_1bintang=pd.read_csv(\"/content/Laptop-macbook/Toko-newrizkyapple/data_laptop_macbook_newrizkyapple_1bintang(cleaned).csv\")"
      ],
      "metadata": {
        "id": "xhu9BOGE1hJk"
      },
      "execution_count": null,
      "outputs": []
    },
    {
      "cell_type": "code",
      "source": [
        "data_laptop_macbook_newrizkyApple=pd.concat([data_laptop_macbook_newrizyApple_5bintang,\n",
        "                                             data_laptop_macbook_newrizyApple_4bintang,\n",
        "                                             data_laptop_macbook_newrizyApple_3bintang,\n",
        "                                             data_laptop_macbook_newrizyApple_2bintang,\n",
        "                                             data_laptop_macbook_newrizyApple_1bintang]\n",
        "                                            ,ignore_index=True)"
      ],
      "metadata": {
        "id": "Tr9kJUSl1xYi"
      },
      "execution_count": null,
      "outputs": []
    },
    {
      "cell_type": "code",
      "source": [
        "data_laptop_macbook_newrizkyApple.drop(columns=[\"Unnamed: 0\"],inplace=True)"
      ],
      "metadata": {
        "id": "Mppv4oWn31gV"
      },
      "execution_count": null,
      "outputs": []
    },
    {
      "cell_type": "code",
      "source": [
        "data_laptop_macbook_newrizkyApple[\"kelas\"]=data_laptop_macbook_newrizkyApple[\"rating\"].apply(pelabelan)"
      ],
      "metadata": {
        "id": "oH3YfTj738fG"
      },
      "execution_count": null,
      "outputs": []
    },
    {
      "cell_type": "code",
      "source": [
        "data_laptop_macbook_newrizkyApple.to_csv(\"/content/Laptop-macbook/Toko-newrizkyapple/pelabelan_kelas/data_laptop_macbook_newrizkyApple.csv\")"
      ],
      "metadata": {
        "id": "whqxk3DI4AgT"
      },
      "execution_count": null,
      "outputs": []
    },
    {
      "cell_type": "markdown",
      "source": [
        "### Toko Studio Ponsel"
      ],
      "metadata": {
        "id": "coxA8MJ1z0df"
      }
    },
    {
      "cell_type": "code",
      "source": [
        "data_laptop_macbook_studioPonsel_4bintang=pd.read_csv(\"/content/Laptop-macbook/Toko-studioPonsel/data_laptop_macbook_studioponsel_4bintang(cleaned).csv\")\n",
        "data_laptop_macbook_studioPonsel_3bintang=pd.read_csv(\"/content/Laptop-macbook/Toko-studioPonsel/data_laptop_macbook_studioponsel_3bintang(cleaned).csv\")\n",
        "data_laptop_macbook_studioPonsel_2bintang=pd.read_csv(\"/content/Laptop-macbook/Toko-studioPonsel/data_laptop_macbook_studioponsel_2bintang(cleaned).csv\")\n",
        "data_laptop_macbook_studioPonsel_1bintang=pd.read_csv(\"/content/Laptop-macbook/Toko-studioPonsel/data_laptop_macbook_studioponsel_1bintang(cleaned).csv\")"
      ],
      "metadata": {
        "id": "CIPE3CMVz2cD"
      },
      "execution_count": null,
      "outputs": []
    },
    {
      "cell_type": "code",
      "source": [
        "data_laptop_macbook_studioPonsel=pd.concat([data_laptop_macbook_studioPonsel_4bintang,\n",
        "                                            data_laptop_macbook_studioPonsel_3bintang,\n",
        "                                            data_laptop_macbook_studioPonsel_2bintang,\n",
        "                                            data_laptop_macbook_studioPonsel_1bintang\n",
        "                                           ], ignore_index=True)"
      ],
      "metadata": {
        "id": "MqtWSd_m0KRe"
      },
      "execution_count": null,
      "outputs": []
    },
    {
      "cell_type": "code",
      "source": [
        "data_laptop_macbook_studioPonsel.drop(columns=[\"Unnamed: 0\"],inplace=True)"
      ],
      "metadata": {
        "id": "547gSh-l0nNa"
      },
      "execution_count": null,
      "outputs": []
    },
    {
      "cell_type": "code",
      "source": [
        "data_laptop_macbook_studioPonsel[\"kelas\"]=data_laptop_macbook_studioPonsel[\"rating\"].apply(pelabelan)"
      ],
      "metadata": {
        "id": "dkvDLsZX0vwj"
      },
      "execution_count": null,
      "outputs": []
    },
    {
      "cell_type": "code",
      "source": [
        "data_laptop_macbook_studioPonsel[\"kelas\"].value_counts()"
      ],
      "metadata": {
        "colab": {
          "base_uri": "https://localhost:8080/"
        },
        "id": "IfV3FnLL0zTz",
        "outputId": "7e548bea-663d-4ab2-eb4d-1337f08cabad"
      },
      "execution_count": null,
      "outputs": [
        {
          "output_type": "execute_result",
          "data": {
            "text/plain": [
              "Baik            12\n",
              "Biasa            3\n",
              "Sangat-buruk     3\n",
              "Buruk            2\n",
              "Name: kelas, dtype: int64"
            ]
          },
          "metadata": {},
          "execution_count": 30
        }
      ]
    },
    {
      "cell_type": "code",
      "source": [
        "data_laptop_macbook_studioPonsel.to_csv(\"/content/Laptop-macbook/Toko-studioPonsel/pelabelan_kelas/data_laptop_macbook_studioPonsel.csv\")"
      ],
      "metadata": {
        "id": "l3BukjnI1AmV"
      },
      "execution_count": null,
      "outputs": []
    },
    {
      "cell_type": "markdown",
      "source": [
        "### Toko applewatchstuff"
      ],
      "metadata": {
        "id": "gqGoiuNHxo9-"
      }
    },
    {
      "cell_type": "code",
      "source": [
        "data_laptop_applewatchStuff_5bintang=pd.read_csv(\"/content/Laptop-macbook/Toko-applewatchstuff/data_laptop_macbook_applewatchstuff_5bintang(cleaned).csv\")\n",
        "data_laptop_applewatchStuff_4bintang=pd.read_csv(\"/content/Laptop-macbook/Toko-applewatchstuff/data_laptop_macbook_applewatchstuff_4bintang(cleaned).csv\")\n",
        "data_laptop_applewatchStuff_3bintang=pd.read_csv(\"/content/Laptop-macbook/Toko-applewatchstuff/data_laptop_macbook_applewatchstuff_3bintang(cleaned).csv\")\n",
        "data_laptop_applewatchStuff_1bintang=pd.read_csv(\"/content/Laptop-macbook/Toko-applewatchstuff/data_laptop_macbook_applewatchstuff_1bintang(cleaned).csv\")"
      ],
      "metadata": {
        "id": "81yiMc9PySKs"
      },
      "execution_count": null,
      "outputs": []
    },
    {
      "cell_type": "code",
      "source": [
        "data_laptop_applewatchstuff=pd.concat([data_laptop_applewatchStuff_5bintang,\n",
        "                                       data_laptop_applewatchStuff_4bintang,\n",
        "                                       data_laptop_applewatchStuff_3bintang,\n",
        "                                       data_laptop_applewatchStuff_1bintang],\n",
        "                                      ignore_index=True)"
      ],
      "metadata": {
        "id": "pJpgO6gbyqVY"
      },
      "execution_count": null,
      "outputs": []
    },
    {
      "cell_type": "code",
      "source": [
        "data_laptop_applewatchstuff.drop(columns=[\"Unnamed: 0\"],inplace=True)"
      ],
      "metadata": {
        "id": "fSrvo3DTy2e7"
      },
      "execution_count": null,
      "outputs": []
    },
    {
      "cell_type": "code",
      "source": [
        "data_laptop_applewatchstuff[\"kelas\"]=data_laptop_applewatchstuff[\"rating\"].apply(pelabelan)"
      ],
      "metadata": {
        "id": "V_r8M3o7zO3Q"
      },
      "execution_count": null,
      "outputs": []
    },
    {
      "cell_type": "code",
      "source": [
        "data_laptop_applewatchstuff.to_csv(\"/content/Laptop-macbook/Toko-applewatchstuff/pelabelan_kelas/data_laptop_applewatchstuff.csv\")"
      ],
      "metadata": {
        "id": "y39VAtqey8Bf"
      },
      "execution_count": null,
      "outputs": []
    },
    {
      "cell_type": "code",
      "source": [
        "data_laptop_applewatchstuff[\"kelas\"].value_counts()"
      ],
      "metadata": {
        "colab": {
          "base_uri": "https://localhost:8080/"
        },
        "id": "8VQHNmvazLMm",
        "outputId": "f75a7163-554a-401c-a8bb-602f2e078495"
      },
      "execution_count": null,
      "outputs": [
        {
          "output_type": "execute_result",
          "data": {
            "text/plain": [
              "Sangat-baik     50\n",
              "Baik            16\n",
              "Biasa            3\n",
              "Sangat-buruk     1\n",
              "Name: kelas, dtype: int64"
            ]
          },
          "metadata": {},
          "execution_count": 17
        }
      ]
    },
    {
      "cell_type": "markdown",
      "source": [
        "#### Penggabungan "
      ],
      "metadata": {
        "id": "a4lWuyrt4SUC"
      }
    },
    {
      "cell_type": "code",
      "source": [
        "data_laptop_macbook=pd.concat([data_laptop_applewatchstuff,\n",
        "                               data_laptop_macbook_studioPonsel,\n",
        "                               data_laptop_macbook_newrizkyApple],\n",
        "                              ignore_index=True)"
      ],
      "metadata": {
        "id": "Wz-3xlM-4TQq"
      },
      "execution_count": null,
      "outputs": []
    },
    {
      "cell_type": "code",
      "source": [
        "data_laptop_macbook.to_csv(\"/content/Laptop-macbook/pelabelan_kelas_gabungan/data_laptop_macbook.csv\")"
      ],
      "metadata": {
        "id": "MC7K5RNh4ecy"
      },
      "execution_count": null,
      "outputs": []
    },
    {
      "cell_type": "markdown",
      "source": [
        "## Laptop hp-chromebook"
      ],
      "metadata": {
        "id": "mfbucano7nHo"
      }
    },
    {
      "cell_type": "markdown",
      "source": [
        "### Toko-distrilapid"
      ],
      "metadata": {
        "id": "ml3uRz3o_NyC"
      }
    },
    {
      "cell_type": "code",
      "source": [
        "data_laptop_hp_distrilapid_3bintang=pd.read_csv(\"/content/Laptop_hp-chromebook/Toko-distrilapid/data_laptop_chromebook_1bintang(cleaned).csv\")\n",
        "data_laptop_hp_distrilapid_2bintang=pd.read_csv(\"/content/Laptop_hp-chromebook/Toko-distrilapid/data_laptop_chromebook_2bintang(cleaned).csv\")\n",
        "data_laptop_hp_distrilapid_1bintang=pd.read_csv(\"/content/Laptop_hp-chromebook/Toko-distrilapid/data_laptop_chromebook_3bintang(cleaned).csv\")"
      ],
      "metadata": {
        "id": "XwMGHf0V_ROI"
      },
      "execution_count": null,
      "outputs": []
    },
    {
      "cell_type": "code",
      "source": [
        "data_laptop_hp_chromebook_distrlapid=pd.concat([data_laptop_hp_distrilapid_3bintang,data_laptop_hp_distrilapid_2bintang,\n",
        "                                                data_laptop_hp_distrilapid_1bintang],\n",
        "                                               ignore_index=True)"
      ],
      "metadata": {
        "id": "LkLiSv6L_6zH"
      },
      "execution_count": null,
      "outputs": []
    },
    {
      "cell_type": "code",
      "source": [
        "data_laptop_hp_chromebook_distrlapid.drop(columns=[\"Unnamed: 0\"],inplace=True)"
      ],
      "metadata": {
        "id": "TXt6q_ZAADkx"
      },
      "execution_count": null,
      "outputs": []
    },
    {
      "cell_type": "code",
      "source": [
        "plt.figure(figsize=(15,5))\n",
        "data_laptop_hp_chromebook_distrlapid[\"rating\"].value_counts().plot.bar()\n",
        "plt.ylabel(\"Total\")\n",
        "plt.show()"
      ],
      "metadata": {
        "colab": {
          "base_uri": "https://localhost:8080/",
          "height": 399
        },
        "id": "FIqSTm09Aq8p",
        "outputId": "ad7729ba-c913-426c-e6e9-3c2ae35b0136"
      },
      "execution_count": null,
      "outputs": [
        {
          "output_type": "display_data",
          "data": {
            "text/plain": [
              "<Figure size 1500x500 with 1 Axes>"
            ],
            "image/png": "[encoded data removed]"
          },
          "metadata": {}
        }
      ]
    },
    {
      "cell_type": "code",
      "source": [
        "data_laptop_hp_chromebook_distrlapid[\"kelas\"]=data_laptop_hp_chromebook_distrlapid[\"rating\"].apply(pelabelan)"
      ],
      "metadata": {
        "id": "pTyB5X-HA2Wd"
      },
      "execution_count": null,
      "outputs": []
    },
    {
      "cell_type": "code",
      "source": [
        "data_laptop_hp_chromebook_distrlapid.to_csv(\"/content/Laptop_hp-chromebook/Toko-distrilapid/pelabelan_kelas/data_laptop_hp_chromebook_distrlapid.csv\")"
      ],
      "metadata": {
        "id": "C_5MNPQSA7tk"
      },
      "execution_count": null,
      "outputs": []
    },
    {
      "cell_type": "markdown",
      "source": [
        "### Toko-agreshpauthorized"
      ],
      "metadata": {
        "id": "E1iC0w7j_KnU"
      }
    },
    {
      "cell_type": "code",
      "source": [
        "data_laptop_hp_5bintang=pd.read_csv(\"/content/Laptop_hp-chromebook/Toko-agreshpauthorized/data_laptop_chromebook_5bintang(cleaned).csv\")\n",
        "data_laptop_hp_4bintang=pd.read_csv(\"/content/Laptop_hp-chromebook/Toko-agreshpauthorized/data_laptop_chromebook_4bintang(cleaned).csv\")\n",
        "data_laptop_hp_3bintang=pd.read_csv(\"/content/Laptop_hp-chromebook/Toko-agreshpauthorized/data_laptop_chromebook_3bintang(cleaned).csv\")"
      ],
      "metadata": {
        "id": "kjFiIybx7RtC"
      },
      "execution_count": null,
      "outputs": []
    },
    {
      "cell_type": "code",
      "source": [
        "data_laptop_hp_chromebook=pd.concat([data_laptop_hp_5bintang,data_laptop_hp_4bintang,data_laptop_hp_3bintang]\n",
        "                                    ,ignore_index=True)"
      ],
      "metadata": {
        "id": "61JKIDHU7tsz"
      },
      "execution_count": null,
      "outputs": []
    },
    {
      "cell_type": "code",
      "source": [
        "data_laptop_hp_chromebook.drop(columns=[\"Unnamed: 0\"],inplace=True)"
      ],
      "metadata": {
        "id": "vMxI1X7x73UR"
      },
      "execution_count": null,
      "outputs": []
    },
    {
      "cell_type": "code",
      "source": [
        "data_laptop_hp_chromebook"
      ],
      "metadata": {
        "colab": {
          "base_uri": "https://localhost:8080/",
          "height": 423
        },
        "id": "hD00-bVN74oS",
        "outputId": "0240a956-065e-4074-90ad-0c1cdf3b98ca"
      },
      "execution_count": null,
      "outputs": [
        {
          "output_type": "execute_result",
          "data": {
            "text/plain": [
              "         nama                                           komentar  rating\n",
              "0   Adikrisna  Admin responsif mantap, untuk barang memang ad...       5\n",
              "1       Adhan  laptop agak cepet panas, barang lengkap semoga...       5\n",
              "2        Heri  Untuk pemakaian kerja ringan seperti mengetik ...       5\n",
              "3         oca                                         makasiiiii       5\n",
              "4       A***d                                              Bagus       5\n",
              "..        ...                                                ...     ...\n",
              "72       Eric  Seller cepat respon dan kirim Overall barang b...       4\n",
              "73     aditia                                            lumayan       4\n",
              "74      A***i  kecewa sama pelayanan toko... Janji jumat bisa...       4\n",
              "75       Eric  Seller cepat respon dan kirim Overall barang b...       4\n",
              "76      attha  paket datang tanpa ada packing kayu, padahal i...       3\n",
              "\n",
              "[77 rows x 3 columns]"
            ],
            "text/html": [
              "\n",
              "  <div id=\"df-cd8e13d0-7095-44c4-8462-8a202fd54b8f\">\n",
              "    <div class=\"colab-df-container\">\n",
              "      <div>\n",
              "<style scoped>\n",
              "    .dataframe tbody tr th:only-of-type {\n",
              "        vertical-align: middle;\n",
              "    }\n",
              "\n",
              "    .dataframe tbody tr th {\n",
              "        vertical-align: top;\n",
              "    }\n",
              "\n",
              "    .dataframe thead th {\n",
              "        text-align: right;\n",
              "    }\n",
              "</style>\n",
              "<table border=\"1\" class=\"dataframe\">\n",
              "  <thead>\n",
              "    <tr style=\"text-align: right;\">\n",
              "      <th></th>\n",
              "      <th>nama</th>\n",
              "      <th>komentar</th>\n",
              "      <th>rating</th>\n",
              "    </tr>\n",
              "  </thead>\n",
              "  <tbody>\n",
              "    <tr>\n",
              "      <th>0</th>\n",
              "      <td>Adikrisna</td>\n",
              "      <td>Admin responsif mantap, untuk barang memang ad...</td>\n",
              "      <td>5</td>\n",
              "    </tr>\n",
              "    <tr>\n",
              "      <th>1</th>\n",
              "      <td>Adhan</td>\n",
              "      <td>laptop agak cepet panas, barang lengkap semoga...</td>\n",
              "      <td>5</td>\n",
              "    </tr>\n",
              "    <tr>\n",
              "      <th>2</th>\n",
              "      <td>Heri</td>\n",
              "      <td>Untuk pemakaian kerja ringan seperti mengetik ...</td>\n",
              "      <td>5</td>\n",
              "    </tr>\n",
              "    <tr>\n",
              "      <th>3</th>\n",
              "      <td>oca</td>\n",
              "      <td>makasiiiii</td>\n",
              "      <td>5</td>\n",
              "    </tr>\n",
              "    <tr>\n",
              "      <th>4</th>\n",
              "      <td>A***d</td>\n",
              "      <td>Bagus</td>\n",
              "      <td>5</td>\n",
              "    </tr>\n",
              "    <tr>\n",
              "      <th>...</th>\n",
              "      <td>...</td>\n",
              "      <td>...</td>\n",
              "      <td>...</td>\n",
              "    </tr>\n",
              "    <tr>\n",
              "      <th>72</th>\n",
              "      <td>Eric</td>\n",
              "      <td>Seller cepat respon dan kirim Overall barang b...</td>\n",
              "      <td>4</td>\n",
              "    </tr>\n",
              "    <tr>\n",
              "      <th>73</th>\n",
              "      <td>aditia</td>\n",
              "      <td>lumayan</td>\n",
              "      <td>4</td>\n",
              "    </tr>\n",
              "    <tr>\n",
              "      <th>74</th>\n",
              "      <td>A***i</td>\n",
              "      <td>kecewa sama pelayanan toko... Janji jumat bisa...</td>\n",
              "      <td>4</td>\n",
              "    </tr>\n",
              "    <tr>\n",
              "      <th>75</th>\n",
              "      <td>Eric</td>\n",
              "      <td>Seller cepat respon dan kirim Overall barang b...</td>\n",
              "      <td>4</td>\n",
              "    </tr>\n",
              "    <tr>\n",
              "      <th>76</th>\n",
              "      <td>attha</td>\n",
              "      <td>paket datang tanpa ada packing kayu, padahal i...</td>\n",
              "      <td>3</td>\n",
              "    </tr>\n",
              "  </tbody>\n",
              "</table>\n",
              "<p>77 rows × 3 columns</p>\n",
              "</div>\n",
              "      <button class=\"colab-df-convert\" onclick=\"convertToInteractive('df-cd8e13d0-7095-44c4-8462-8a202fd54b8f')\"\n",
              "              title=\"Convert this dataframe to an interactive table.\"\n",
              "              style=\"display:none;\">\n",
              "        \n",
              "  <svg xmlns=\"http://www.w3.org/2000/svg\" height=\"24px\"viewBox=\"0 0 24 24\"\n",
              "       width=\"24px\">\n",
              "    <path d=\"M0 0h24v24H0V0z\" fill=\"none\"/>\n",
              "    <path d=\"M18.56 5.44l.94 2.06.94-2.06 2.06-.94-2.06-.94-.94-2.06-.94 2.06-2.06.94zm-11 1L8.5 8.5l.94-2.06 2.06-.94-2.06-.94L8.5 2.5l-.94 2.06-2.06.94zm10 10l.94 2.06.94-2.06 2.06-.94-2.06-.94-.94-2.06-.94 2.06-2.06.94z\"/><path d=\"M17.41 7.96l-1.37-1.37c-.4-.4-.92-.59-1.43-.59-.52 0-1.04.2-1.43.59L10.3 9.45l-7.72 7.72c-.78.78-.78 2.05 0 2.83L4 21.41c.39.39.9.59 1.41.59.51 0 1.02-.2 1.41-.59l7.78-7.78 2.81-2.81c.8-.78.8-2.07 0-2.86zM5.41 20L4 18.59l7.72-7.72 1.47 1.35L5.41 20z\"/>\n",
              "  </svg>\n",
              "      </button>\n",
              "      \n",
              "  <style>\n",
              "    .colab-df-container {\n",
              "      display:flex;\n",
              "      flex-wrap:wrap;\n",
              "      gap: 12px;\n",
              "    }\n",
              "\n",
              "    .colab-df-convert {\n",
              "      background-color: #E8F0FE;\n",
              "      border: none;\n",
              "      border-radius: 50%;\n",
              "      cursor: pointer;\n",
              "      display: none;\n",
              "      fill: #1967D2;\n",
              "      height: 32px;\n",
              "      padding: 0 0 0 0;\n",
              "      width: 32px;\n",
              "    }\n",
              "\n",
              "    .colab-df-convert:hover {\n",
              "      background-color: #E2EBFA;\n",
              "      box-shadow: 0px 1px 2px rgba(60, 64, 67, 0.3), 0px 1px 3px 1px rgba(60, 64, 67, 0.15);\n",
              "      fill: #174EA6;\n",
              "    }\n",
              "\n",
              "    [theme=dark] .colab-df-convert {\n",
              "      background-color: #3B4455;\n",
              "      fill: #D2E3FC;\n",
              "    }\n",
              "\n",
              "    [theme=dark] .colab-df-convert:hover {\n",
              "      background-color: #434B5C;\n",
              "      box-shadow: 0px 1px 3px 1px rgba(0, 0, 0, 0.15);\n",
              "      filter: drop-shadow(0px 1px 2px rgba(0, 0, 0, 0.3));\n",
              "      fill: #FFFFFF;\n",
              "    }\n",
              "  </style>\n",
              "\n",
              "      <script>\n",
              "        const buttonEl =\n",
              "          document.querySelector('#df-cd8e13d0-7095-44c4-8462-8a202fd54b8f button.colab-df-convert');\n",
              "        buttonEl.style.display =\n",
              "          google.colab.kernel.accessAllowed ? 'block' : 'none';\n",
              "\n",
              "        async function convertToInteractive(key) {\n",
              "          const element = document.querySelector('#df-cd8e13d0-7095-44c4-8462-8a202fd54b8f');\n",
              "          const dataTable =\n",
              "            await google.colab.kernel.invokeFunction('convertToInteractive',\n",
              "                                                     [key], {});\n",
              "          if (!dataTable) return;\n",
              "\n",
              "          const docLinkHtml = 'Like what you see? Visit the ' +\n",
              "            '<a target=\"_blank\" href=https://colab.research.google.com/notebooks/data_table.ipynb>data table notebook</a>'\n",
              "            + ' to learn more about interactive tables.';\n",
              "          element.innerHTML = '';\n",
              "          dataTable['output_type'] = 'display_data';\n",
              "          await google.colab.output.renderOutput(dataTable, element);\n",
              "          const docLink = document.createElement('div');\n",
              "          docLink.innerHTML = docLinkHtml;\n",
              "          element.appendChild(docLink);\n",
              "        }\n",
              "      </script>\n",
              "    </div>\n",
              "  </div>\n",
              "  "
            ]
          },
          "metadata": {},
          "execution_count": 41
        }
      ]
    },
    {
      "cell_type": "code",
      "source": [
        "import matplotlib.pyplot as plt"
      ],
      "metadata": {
        "id": "oH5YjdN89RF5"
      },
      "execution_count": null,
      "outputs": []
    },
    {
      "cell_type": "code",
      "source": [
        "plt.figure(figsize=(15,5))\n",
        "data_laptop_hp_chromebook[\"rating\"].value_counts().plot.bar()\n",
        "plt.ylabel(\"Total\")\n",
        "plt.show()"
      ],
      "metadata": {
        "colab": {
          "base_uri": "https://localhost:8080/",
          "height": 400
        },
        "id": "4UzI0GkF8pPS",
        "outputId": "8719a92e-9f93-4622-ae2e-b763df8528c1"
      },
      "execution_count": null,
      "outputs": [
        {
          "output_type": "display_data",
          "data": {
            "text/plain": [
              "<Figure size 1500x500 with 1 Axes>"
            ],
            "image/png": "[encoded data removed]"
          },
          "metadata": {}
        }
      ]
    },
    {
      "cell_type": "code",
      "source": [
        "data_laptop_hp_chromebook[\"kelas\"]=data_laptop_hp_chromebook[\"rating\"].apply(pelabelan)"
      ],
      "metadata": {
        "id": "TaB1ic4d-VZJ"
      },
      "execution_count": null,
      "outputs": []
    },
    {
      "cell_type": "code",
      "source": [
        "data_laptop_hp_chromebook.to_csv(\"/content/Laptop_hp-chromebook/Toko-agreshpauthorized/pelabelan-kelas/data_laptop_hp_chromebook_agreshpauthorized.csv\")"
      ],
      "metadata": {
        "id": "szqBp7vh-a-Q"
      },
      "execution_count": null,
      "outputs": []
    },
    {
      "cell_type": "markdown",
      "source": [
        "#### Penggabungan"
      ],
      "metadata": {
        "id": "Ma0FtZaTB8O0"
      }
    },
    {
      "cell_type": "code",
      "source": [
        "data_laptop_hp_chromebook=pd.concat([data_laptop_hp_chromebook,data_laptop_hp_chromebook_distrlapid],\n",
        "                                    ignore_index=True)"
      ],
      "metadata": {
        "id": "u44msydOB-VX"
      },
      "execution_count": null,
      "outputs": []
    },
    {
      "cell_type": "code",
      "source": [
        "data_laptop_hp_chromebook.to_csv(\"/content/Laptop_hp-chromebook/Pelabelan_semua_toko/data_laptop_hp_chromebook.csv\")"
      ],
      "metadata": {
        "id": "kCxc6YAGCESX"
      },
      "execution_count": null,
      "outputs": []
    },
    {
      "cell_type": "markdown",
      "source": [
        "## Penggabungan data laptop"
      ],
      "metadata": {
        "id": "meAGiPGw8FnN"
      }
    },
    {
      "cell_type": "code",
      "source": [
        "data_laptop_chromebook=pd.read_csv(\"/content/data_laptop/laptop-chromebook/data_laptop_hp_chromebook.csv\")\n",
        "data_laptop_chromebook.drop(columns=[\"Unnamed: 0\"],inplace=True)"
      ],
      "metadata": {
        "id": "DRusxHIK8Hpk"
      },
      "execution_count": null,
      "outputs": []
    },
    {
      "cell_type": "code",
      "source": [
        "data_laptop_applewatchstuff=pd.read_csv(\"/content/data_laptop/laptop-macbook/data_laptop_applewatchstuff.csv\")\n",
        "data_laptop_macbook_newrizkyApple=pd.read_csv(\"/content/data_laptop/laptop-macbook/data_laptop_macbook_newrizkyApple.csv\")\n",
        "data_laptop_macbook_studioPonsel=pd.read_csv(\"/content/data_laptop/laptop-macbook/data_laptop_macbook_studioPonsel.csv\")\n",
        "\n",
        "data_laptop_macbook=pd.concat([data_laptop_applewatchstuff,\n",
        "                               data_laptop_macbook_newrizkyApple,\n",
        "                               data_laptop_macbook_studioPonsel],\n",
        "                              ignore_index=True)\n",
        "data_laptop_macbook.drop(columns=[\"Unnamed: 0\"],inplace=True)\n",
        "data_laptop_macbook.to_csv(\"/content/data_laptop/laptop-macbook/pelabelan_kelas/data_laptop_macbook.csv\")"
      ],
      "metadata": {
        "id": "vQe5PkZ49C-G"
      },
      "execution_count": null,
      "outputs": []
    },
    {
      "cell_type": "code",
      "source": [
        "data_laptop_macbook=pd.read_csv(\"/content/data_laptop/laptop-macbook/pelabelan_kelas/data_laptop_macbook.csv\")"
      ],
      "metadata": {
        "id": "ejCzVmrZAiaC"
      },
      "execution_count": null,
      "outputs": []
    },
    {
      "cell_type": "code",
      "source": [
        "data_laptop_macbook.drop(columns=[\"Unnamed: 0\"],inplace=True)"
      ],
      "metadata": {
        "id": "iTVAxIQjAl3n"
      },
      "execution_count": null,
      "outputs": []
    },
    {
      "cell_type": "code",
      "source": [
        "data_laptop_lenovo=pd.read_csv(\"/content/data_laptop/laptop-lenovo/data_laptop_lenovo.csv\")\n",
        "data_laptop_lenovo.drop(columns=[\"Unnamed: 0\"],inplace=True)"
      ],
      "metadata": {
        "id": "Lg01GNax9WBv"
      },
      "execution_count": null,
      "outputs": []
    },
    {
      "cell_type": "code",
      "source": [
        "data_laptop_hp=pd.read_csv(\"/content/data_laptop/laptop-hp/pelabelan_kelas/data_hp_laptop.csv\")\n",
        "data_laptop_hp.drop(columns=[\"Unnamed: 0\"],inplace=True)"
      ],
      "metadata": {
        "id": "Eg7qtB9y-zMO"
      },
      "execution_count": null,
      "outputs": []
    },
    {
      "cell_type": "code",
      "source": [
        "data_laptop=pd.concat([data_laptop_chromebook,\n",
        "                       data_laptop_hp,\n",
        "                       data_laptop_macbook,\n",
        "                       data_laptop_lenovo],\n",
        "                     \n",
        "                      ignore_index=True)"
      ],
      "metadata": {
        "id": "JCfpFdlFAUCN"
      },
      "execution_count": null,
      "outputs": []
    },
    {
      "cell_type": "code",
      "source": [
        "data_laptop[\"kelas\"].value_counts().plot.bar();"
      ],
      "metadata": {
        "colab": {
          "base_uri": "https://localhost:8080/",
          "height": 513
        },
        "id": "j3LNzeuRA0gD",
        "outputId": "4b49fc42-244b-4241-8837-c25b0444572f"
      },
      "execution_count": null,
      "outputs": [
        {
          "output_type": "display_data",
          "data": {
            "text/plain": [
              "<Figure size 640x480 with 1 Axes>"
            ],
            "image/png": "[encoded data removed]"
          },
          "metadata": {}
        }
      ]
    },
    {
      "cell_type": "code",
      "source": [
        "data_laptop.to_csv(\"/content/data_laptop/pelabelan_kelas/data_laptop.csv\")"
      ],
      "metadata": {
        "id": "b1bP2DerA6EN"
      },
      "execution_count": null,
      "outputs": []
    },
    {
      "cell_type": "markdown",
      "source": [
        "# observe data "
      ],
      "metadata": {
        "id": "BFgLL0m_yJa3"
      }
    },
    {
      "cell_type": "markdown",
      "source": [
        "## Data laptop"
      ],
      "metadata": {
        "id": "p6mRXQCRyvFK"
      }
    },
    {
      "cell_type": "code",
      "source": [
        "data_laptop=pd.read_csv(\"/content/data_laptop/data_laptop.csv\")"
      ],
      "metadata": {
        "id": "ZIuLLJFfyIWl"
      },
      "execution_count": 35,
      "outputs": []
    },
    {
      "cell_type": "code",
      "source": [
        "data_laptop[\"kelas\"].value_counts().plot.barh();"
      ],
      "metadata": {
        "colab": {
          "base_uri": "https://localhost:8080/",
          "height": 430
        },
        "id": "PsRTfhyPyYtw",
        "outputId": "d5593528-8ad4-4586-a6e0-cf4146acbf5b"
      },
      "execution_count": 40,
      "outputs": [
        {
          "output_type": "display_data",
          "data": {
            "text/plain": [
              "<Figure size 640x480 with 1 Axes>"
            ],
            "image/png": "[encoded data removed]"
          },
          "metadata": {}
        }
      ]
    },
    {
      "cell_type": "markdown",
      "source": [
        "## Data hp"
      ],
      "metadata": {
        "id": "of2pu5GAywSh"
      }
    },
    {
      "cell_type": "code",
      "source": [
        "data_hp=pd.read_csv(\"/content/data-hp/pelabelan_gabungan/data_hp.csv\")"
      ],
      "metadata": {
        "id": "x4fjuijdyxiA"
      },
      "execution_count": 41,
      "outputs": []
    },
    {
      "cell_type": "code",
      "source": [
        "data_hp[\"kelas\"].value_counts().plot.barh();"
      ],
      "metadata": {
        "colab": {
          "base_uri": "https://localhost:8080/",
          "height": 430
        },
        "id": "xkwvljnZy0lo",
        "outputId": "ac1c177c-4a2b-49bd-ea24-55bc8fb5605a"
      },
      "execution_count": 43,
      "outputs": [
        {
          "output_type": "display_data",
          "data": {
            "text/plain": [
              "<Figure size 640x480 with 1 Axes>"
            ],
            "image/png": "[encoded data removed]"
          },
          "metadata": {}
        }
      ]
    }
  ]
}